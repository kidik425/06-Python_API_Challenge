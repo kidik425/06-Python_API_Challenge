{
 "cells": [
  {
   "cell_type": "markdown",
   "metadata": {},
   "source": [
    "# VacationPy\n",
    "----\n",
    "\n",
    "#### Note\n",
    "* Keep an eye on your API usage. Use https://developers.google.com/maps/reporting/gmp-reporting as reference for how to monitor your usage and billing.\n",
    "\n",
    "* Instructions have been included for each segment. You do not have to follow them exactly, but they are included to help you think through the steps."
   ]
  },
  {
   "cell_type": "code",
   "execution_count": 1,
   "metadata": {},
   "outputs": [],
   "source": [
    "# Dependencies and Setup\n",
    "import matplotlib.pyplot as plt\n",
    "import pandas as pd\n",
    "import numpy as np\n",
    "import requests\n",
    "import gmaps\n",
    "import os\n",
    "import json\n",
    "\n",
    "# Import API key\n",
    "from api_keys import g_key"
   ]
  },
  {
   "cell_type": "markdown",
   "metadata": {},
   "source": [
    "### Store Part I results into DataFrame\n",
    "* Load the csv exported in Part I to a DataFrame"
   ]
  },
  {
   "cell_type": "code",
   "execution_count": 2,
   "metadata": {},
   "outputs": [
    {
     "data": {
      "text/html": [
       "<div>\n",
       "<style scoped>\n",
       "    .dataframe tbody tr th:only-of-type {\n",
       "        vertical-align: middle;\n",
       "    }\n",
       "\n",
       "    .dataframe tbody tr th {\n",
       "        vertical-align: top;\n",
       "    }\n",
       "\n",
       "    .dataframe thead th {\n",
       "        text-align: right;\n",
       "    }\n",
       "</style>\n",
       "<table border=\"1\" class=\"dataframe\">\n",
       "  <thead>\n",
       "    <tr style=\"text-align: right;\">\n",
       "      <th></th>\n",
       "      <th>City</th>\n",
       "      <th>Lat</th>\n",
       "      <th>Lng</th>\n",
       "      <th>Max Temp</th>\n",
       "      <th>Humidity</th>\n",
       "      <th>Cloudiness</th>\n",
       "      <th>Wind Speed</th>\n",
       "      <th>Country</th>\n",
       "      <th>Date</th>\n",
       "    </tr>\n",
       "  </thead>\n",
       "  <tbody>\n",
       "  </tbody>\n",
       "</table>\n",
       "</div>"
      ],
      "text/plain": [
       "Empty DataFrame\n",
       "Columns: [City, Lat, Lng, Max Temp, Humidity, Cloudiness, Wind Speed, Country, Date]\n",
       "Index: []"
      ]
     },
     "execution_count": 2,
     "metadata": {},
     "output_type": "execute_result"
    }
   ],
   "source": [
    "#create import file path\n",
    "inputFile = \"../Output/cities.csv\"\n",
    "\n",
    "#load dataframe\n",
    "weatherCitiesDF = pd.read_csv(inputFile,keep_default_na=False)\n",
    "\n",
    "#create output file\n",
    "\n",
    "outputPath=\"../Output/\"\n",
    "# outputCsv= outputPath+\"cities.csv\"\n",
    "\n",
    "weatherCitiesDF.loc[(weatherCitiesDF['City'] == 'Gobabis')].head()"
   ]
  },
  {
   "cell_type": "markdown",
   "metadata": {},
   "source": [
    "### Humidity Heatmap\n",
    "* Configure gmaps.\n",
    "* Use the Lat and Lng as locations and Humidity as the weight.\n",
    "* Add Heatmap layer to map."
   ]
  },
  {
   "cell_type": "code",
   "execution_count": 3,
   "metadata": {},
   "outputs": [
    {
     "data": {
      "application/vnd.jupyter.widget-view+json": {
       "model_id": "488cbda426df4f0b959686a89a3046c2",
       "version_major": 2,
       "version_minor": 0
      },
      "text/plain": [
       "Figure(layout=FigureLayout(height='420px'))"
      ]
     },
     "metadata": {},
     "output_type": "display_data"
    }
   ],
   "source": [
    "# List for holding cities\n",
    "gmaps.configure(api_key=g_key)\n",
    "\n",
    "#initiate the figure\n",
    "fig = gmaps.figure()\n",
    "\n",
    "#get data from dataframe\n",
    "locations = weatherCitiesDF[[\"Lat\", \"Lng\"]]\n",
    "heat = weatherCitiesDF[\"Humidity\"].astype(int)\n",
    "\n",
    "#create heat layer\n",
    "heat_layer = gmaps.heatmap_layer(locations\n",
    "                                 ,weights=heat\n",
    "                                 ,dissipating=False\n",
    "                                 ,max_intensity=15\n",
    "                                 ,point_radius=2)\n",
    "\n",
    "#add layer\n",
    "fig.add_layer(heat_layer)\n",
    "\n",
    "#display figure\n",
    "fig"
   ]
  },
  {
   "cell_type": "markdown",
   "metadata": {},
   "source": [
    "### Create new DataFrame fitting weather criteria\n",
    "* Narrow down the cities to fit weather conditions.\n",
    "* Drop any rows will null values."
   ]
  },
  {
   "cell_type": "code",
   "execution_count": 4,
   "metadata": {},
   "outputs": [
    {
     "data": {
      "text/html": [
       "<div>\n",
       "<style scoped>\n",
       "    .dataframe tbody tr th:only-of-type {\n",
       "        vertical-align: middle;\n",
       "    }\n",
       "\n",
       "    .dataframe tbody tr th {\n",
       "        vertical-align: top;\n",
       "    }\n",
       "\n",
       "    .dataframe thead th {\n",
       "        text-align: right;\n",
       "    }\n",
       "</style>\n",
       "<table border=\"1\" class=\"dataframe\">\n",
       "  <thead>\n",
       "    <tr style=\"text-align: right;\">\n",
       "      <th></th>\n",
       "      <th>Lat</th>\n",
       "      <th>Lng</th>\n",
       "      <th>Max Temp</th>\n",
       "      <th>Humidity</th>\n",
       "      <th>Cloudiness</th>\n",
       "      <th>Wind Speed</th>\n",
       "      <th>Date</th>\n",
       "    </tr>\n",
       "  </thead>\n",
       "  <tbody>\n",
       "    <tr>\n",
       "      <th>count</th>\n",
       "      <td>4.000000</td>\n",
       "      <td>4.000000</td>\n",
       "      <td>4.000000</td>\n",
       "      <td>4.000000</td>\n",
       "      <td>4.0</td>\n",
       "      <td>4.00000</td>\n",
       "      <td>4.000000e+00</td>\n",
       "    </tr>\n",
       "    <tr>\n",
       "      <th>mean</th>\n",
       "      <td>-3.434900</td>\n",
       "      <td>-7.013600</td>\n",
       "      <td>74.300000</td>\n",
       "      <td>65.500000</td>\n",
       "      <td>0.0</td>\n",
       "      <td>6.49500</td>\n",
       "      <td>1.619298e+09</td>\n",
       "    </tr>\n",
       "    <tr>\n",
       "      <th>std</th>\n",
       "      <td>24.909333</td>\n",
       "      <td>55.887833</td>\n",
       "      <td>3.446738</td>\n",
       "      <td>27.670682</td>\n",
       "      <td>0.0</td>\n",
       "      <td>2.89476</td>\n",
       "      <td>1.444054e+02</td>\n",
       "    </tr>\n",
       "    <tr>\n",
       "      <th>min</th>\n",
       "      <td>-19.843600</td>\n",
       "      <td>-71.337500</td>\n",
       "      <td>71.600000</td>\n",
       "      <td>27.000000</td>\n",
       "      <td>0.0</td>\n",
       "      <td>2.30000</td>\n",
       "      <td>1.619298e+09</td>\n",
       "    </tr>\n",
       "    <tr>\n",
       "      <th>25%</th>\n",
       "      <td>-18.190450</td>\n",
       "      <td>-44.801900</td>\n",
       "      <td>71.600000</td>\n",
       "      <td>54.750000</td>\n",
       "      <td>0.0</td>\n",
       "      <td>5.75750</td>\n",
       "      <td>1.619298e+09</td>\n",
       "    </tr>\n",
       "    <tr>\n",
       "      <th>50%</th>\n",
       "      <td>-13.618300</td>\n",
       "      <td>-0.558900</td>\n",
       "      <td>73.400000</td>\n",
       "      <td>73.500000</td>\n",
       "      <td>0.0</td>\n",
       "      <td>7.48000</td>\n",
       "      <td>1.619298e+09</td>\n",
       "    </tr>\n",
       "    <tr>\n",
       "      <th>75%</th>\n",
       "      <td>1.137250</td>\n",
       "      <td>37.229400</td>\n",
       "      <td>76.100000</td>\n",
       "      <td>84.250000</td>\n",
       "      <td>0.0</td>\n",
       "      <td>8.21750</td>\n",
       "      <td>1.619298e+09</td>\n",
       "    </tr>\n",
       "    <tr>\n",
       "      <th>max</th>\n",
       "      <td>33.340600</td>\n",
       "      <td>44.400900</td>\n",
       "      <td>78.800000</td>\n",
       "      <td>88.000000</td>\n",
       "      <td>0.0</td>\n",
       "      <td>8.72000</td>\n",
       "      <td>1.619299e+09</td>\n",
       "    </tr>\n",
       "  </tbody>\n",
       "</table>\n",
       "</div>"
      ],
      "text/plain": [
       "             Lat        Lng   Max Temp   Humidity  Cloudiness  Wind Speed  \\\n",
       "count   4.000000   4.000000   4.000000   4.000000         4.0     4.00000   \n",
       "mean   -3.434900  -7.013600  74.300000  65.500000         0.0     6.49500   \n",
       "std    24.909333  55.887833   3.446738  27.670682         0.0     2.89476   \n",
       "min   -19.843600 -71.337500  71.600000  27.000000         0.0     2.30000   \n",
       "25%   -18.190450 -44.801900  71.600000  54.750000         0.0     5.75750   \n",
       "50%   -13.618300  -0.558900  73.400000  73.500000         0.0     7.48000   \n",
       "75%     1.137250  37.229400  76.100000  84.250000         0.0     8.21750   \n",
       "max    33.340600  44.400900  78.800000  88.000000         0.0     8.72000   \n",
       "\n",
       "               Date  \n",
       "count  4.000000e+00  \n",
       "mean   1.619298e+09  \n",
       "std    1.444054e+02  \n",
       "min    1.619298e+09  \n",
       "25%    1.619298e+09  \n",
       "50%    1.619298e+09  \n",
       "75%    1.619298e+09  \n",
       "max    1.619299e+09  "
      ]
     },
     "execution_count": 4,
     "metadata": {},
     "output_type": "execute_result"
    }
   ],
   "source": [
    "#create new dataframe based on the conditions in instructions\n",
    "niceWeatherDF = weatherCitiesDF.loc[(weatherCitiesDF[\"Max Temp\"].between(70,80))\n",
    "                                    & (weatherCitiesDF[\"Wind Speed\"] < 10.00)\n",
    "                                    & (weatherCitiesDF[\"Cloudiness\"] == 0) \n",
    "                                   ]\n",
    "#remove NAs\n",
    "niceWeatherDF.dropna(axis=0)\n",
    "niceWeatherDF.describe() #sanity check"
   ]
  },
  {
   "cell_type": "markdown",
   "metadata": {},
   "source": [
    "### Hotel Map\n",
    "* Store into variable named `hotel_df`.\n",
    "* Add a \"Hotel Name\" column to the DataFrame.\n",
    "* Set parameters to search for hotels with 5000 meters.\n",
    "* Hit the Google Places API for each city's coordinates.\n",
    "* Store the first Hotel result into the DataFrame.\n",
    "* Plot markers on top of the heatmap."
   ]
  },
  {
   "cell_type": "code",
   "execution_count": 9,
   "metadata": {},
   "outputs": [
    {
     "name": "stdout",
     "output_type": "stream",
     "text": [
      "No hotel found\n"
     ]
    }
   ],
   "source": [
    "nameL = []\n",
    "latL = []\n",
    "lngL = []\n",
    "addyL = []\n",
    "cityL = []\n",
    "ctryL = []\n",
    "\n",
    "for index, row in niceWeatherDF.iterrows():\n",
    "    try:\n",
    "        #cap lat and lng for city\n",
    "        lat = row['Lat']\n",
    "        lng = row['Lng']\n",
    "    #     print(city) #sanity check\n",
    "    #     print(f\"Lat: {lat}\") #sanity check\n",
    "    #     print(f\"Lng: {lng}\") #sanity check\n",
    "\n",
    "        #geocoordinates\n",
    "        targetCoordinates = f\"{lat} , {lng}\"\n",
    "        targetSearch = \"hotel\"\n",
    "        targetRadius = 10000\n",
    "        #targetType = \"hotel\"\n",
    "        #print(targetCoordinates) #sanity check\n",
    "\n",
    "        # set up a parameters dictionary\n",
    "        params = {\n",
    "            \"location\": targetCoordinates,\n",
    "            \"keyword\": targetSearch,\n",
    "            \"radius\": targetRadius,\n",
    "            #\"type\": targetType,\n",
    "            \"key\": g_key\n",
    "            }\n",
    "\n",
    "        # base url\n",
    "        base_url = \"https://maps.googleapis.com/maps/api/place/nearbysearch/json\"\n",
    "        \n",
    "        #get results\n",
    "        response = requests.get(base_url, params=params).json()\n",
    "        \n",
    "        nameL.append(response['results'][0]['name'])\n",
    "        latL.append(response['results'][0]['geometry']['location']['lat'])\n",
    "        lngL.append(response['results'][0]['geometry']['location']['lng'])\n",
    "        addyL.append(response['results'][0]['vicinity'])\n",
    "        cityL.append(row['City'])\n",
    "        ctryL.append(row['Country'])\n",
    "        \n",
    "    except KeyError:\n",
    "        print(f\"City or hotel not found\")\n",
    "        \n",
    "    except IndexError:\n",
    "        print(f\"No hotel found\")\n",
    "      "
   ]
  },
  {
   "cell_type": "code",
   "execution_count": 11,
   "metadata": {},
   "outputs": [
    {
     "data": {
      "text/html": [
       "<div>\n",
       "<style scoped>\n",
       "    .dataframe tbody tr th:only-of-type {\n",
       "        vertical-align: middle;\n",
       "    }\n",
       "\n",
       "    .dataframe tbody tr th {\n",
       "        vertical-align: top;\n",
       "    }\n",
       "\n",
       "    .dataframe thead th {\n",
       "        text-align: right;\n",
       "    }\n",
       "</style>\n",
       "<table border=\"1\" class=\"dataframe\">\n",
       "  <thead>\n",
       "    <tr style=\"text-align: right;\">\n",
       "      <th></th>\n",
       "      <th>Hotel Name</th>\n",
       "      <th>City</th>\n",
       "      <th>Hotel Lat</th>\n",
       "      <th>Hotel Lng</th>\n",
       "      <th>Country</th>\n",
       "      <th>Address</th>\n",
       "    </tr>\n",
       "  </thead>\n",
       "  <tbody>\n",
       "    <tr>\n",
       "      <th>0</th>\n",
       "      <td>Apart Hotel Atenea</td>\n",
       "      <td>Ilo</td>\n",
       "      <td>-17.657635</td>\n",
       "      <td>-71.337780</td>\n",
       "      <td>PE</td>\n",
       "      <td>Villa Marina Mz. 08 - Lote. 01, Ilo</td>\n",
       "    </tr>\n",
       "    <tr>\n",
       "      <th>1</th>\n",
       "      <td>Babylon Rotana</td>\n",
       "      <td>Baghdad</td>\n",
       "      <td>33.291224</td>\n",
       "      <td>44.390489</td>\n",
       "      <td>IQ</td>\n",
       "      <td>Karada Street, Baghdad</td>\n",
       "    </tr>\n",
       "    <tr>\n",
       "      <th>2</th>\n",
       "      <td>Golden Peacock Resort Hotel</td>\n",
       "      <td>Beira</td>\n",
       "      <td>-19.827120</td>\n",
       "      <td>34.917726</td>\n",
       "      <td>MZ</td>\n",
       "      <td>Beira</td>\n",
       "    </tr>\n",
       "  </tbody>\n",
       "</table>\n",
       "</div>"
      ],
      "text/plain": [
       "                    Hotel Name     City  Hotel Lat  Hotel Lng Country  \\\n",
       "0           Apart Hotel Atenea      Ilo -17.657635 -71.337780      PE   \n",
       "1               Babylon Rotana  Baghdad  33.291224  44.390489      IQ   \n",
       "2  Golden Peacock Resort Hotel    Beira -19.827120  34.917726      MZ   \n",
       "\n",
       "                               Address  \n",
       "0  Villa Marina Mz. 08 - Lote. 01, Ilo  \n",
       "1               Karada Street, Baghdad  \n",
       "2                                Beira  "
      ]
     },
     "execution_count": 11,
     "metadata": {},
     "output_type": "execute_result"
    }
   ],
   "source": [
    "hotelDict = {\n",
    "    \"Hotel Name\" : nameL,\n",
    "    \"City\" : cityL,\n",
    "    \"Hotel Lat\" : latL,\n",
    "    \"Hotel Lng\" : lngL,\n",
    "    \"Country\" : ctryL,\n",
    "    \"Address\" : addyL\n",
    "} \n",
    "\n",
    "#convert dictionary to df\n",
    "hotelDF = pd.DataFrame(hotelDict)\n",
    "\n",
    "hotelDF"
   ]
  },
  {
   "cell_type": "code",
   "execution_count": 12,
   "metadata": {},
   "outputs": [],
   "source": [
    "# NOTE: Do not change any of the code in this cell\n",
    "\n",
    "# Using the template add the hotel marks to the heatmap\n",
    "infoBoxTemplate = \"\"\"\n",
    "<dl>\n",
    "<dt>Hotel Name</dt><dd>{Hotel Name}</dd>\n",
    "<dt>City</dt><dd>{City}</dd>\n",
    "<dt>Country</dt><dd>{Country}</dd>\n",
    "<dt>Address</dt><dd>{Address}</dd>\n",
    "</dl>\n",
    "\"\"\"\n",
    "# Store the DataFrame Row\n",
    "# NOTE: be sure to update with your DataFrame name\n",
    "hotelInfo = [infoBoxTemplate.format(**row) for index, row in hotelDF.iterrows()]\n",
    "locations = hotelDF[[\"Hotel Lat\", \"Hotel Lng\"]]"
   ]
  },
  {
   "cell_type": "code",
   "execution_count": 13,
   "metadata": {},
   "outputs": [
    {
     "data": {
      "application/vnd.jupyter.widget-view+json": {
       "model_id": "488cbda426df4f0b959686a89a3046c2",
       "version_major": 2,
       "version_minor": 0
      },
      "text/plain": [
       "Figure(layout=FigureLayout(height='420px'))"
      ]
     },
     "metadata": {},
     "output_type": "display_data"
    }
   ],
   "source": [
    "# Add marker layer ontop of heat map\n",
    "fig \n",
    "\n",
    "markers = gmaps.marker_layer(locations, \n",
    "            info_box_content=hotelInfo)\n",
    "\n",
    "fig.add_layer(markers)\n",
    "\n",
    "# Display figure\n",
    "fig"
   ]
  }
 ],
 "metadata": {
  "kernelspec": {
   "display_name": "Python 3",
   "language": "python",
   "name": "python3"
  },
  "language_info": {
   "codemirror_mode": {
    "name": "ipython",
    "version": 3
   },
   "file_extension": ".py",
   "mimetype": "text/x-python",
   "name": "python",
   "nbconvert_exporter": "python",
   "pygments_lexer": "ipython3",
   "version": "3.8.5"
  },
  "latex_envs": {
   "LaTeX_envs_menu_present": true,
   "autoclose": false,
   "autocomplete": true,
   "bibliofile": "biblio.bib",
   "cite_by": "apalike",
   "current_citInitial": 1,
   "eqLabelWithNumbers": true,
   "eqNumInitial": 1,
   "hotkeys": {
    "equation": "Ctrl-E",
    "itemize": "Ctrl-I"
   },
   "labels_anchors": false,
   "latex_user_defs": false,
   "report_style_numbering": false,
   "user_envs_cfg": false
  }
 },
 "nbformat": 4,
 "nbformat_minor": 4
}
