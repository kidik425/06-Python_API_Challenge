{
 "cells": [
  {
   "cell_type": "markdown",
   "metadata": {},
   "source": [
    "# WeatherPy\n",
    "----\n",
    "\n",
    "#### Note\n",
    "* Instructions have been included for each segment. You do not have to follow them exactly, but they are included to help you think through the steps."
   ]
  },
  {
   "cell_type": "code",
   "execution_count": 42,
   "metadata": {
    "scrolled": true
   },
   "outputs": [],
   "source": [
    "# Dependencies and Setup\n",
    "import matplotlib.pyplot as plt\n",
    "import pandas as pd\n",
    "import numpy as np\n",
    "import requests\n",
    "import time\n",
    "from scipy.stats import linregress\n",
    "from datetime import date\n",
    "import scipy.stats as st\n",
    "\n",
    "# Import API key\n",
    "from api_keys import weather_api_key\n",
    "\n",
    "# Incorporated citipy to determine city based on latitude and longitude\n",
    "from citipy import citipy\n",
    "\n",
    "# Output File (CSV)\n",
    "output_data_file = \"output_data/cities.csv\"\n",
    "\n",
    "# Range of latitudes and longitudes\n",
    "lat_range = (-90, 90)\n",
    "lng_range = (-180, 180)\n",
    "\n",
    "#get today's date for the graphing\n",
    "today = date.today()"
   ]
  },
  {
   "cell_type": "markdown",
   "metadata": {},
   "source": [
    "## Generate Cities List"
   ]
  },
  {
   "cell_type": "code",
   "execution_count": 2,
   "metadata": {},
   "outputs": [
    {
     "data": {
      "text/plain": [
       "77"
      ]
     },
     "execution_count": 2,
     "metadata": {},
     "output_type": "execute_result"
    }
   ],
   "source": [
    "# List for holding lat_lngs and cities\n",
    "lat_lngs = []\n",
    "cities = []\n",
    "\n",
    "# Create a set of random lat and lng combinations\n",
    "lats = np.random.uniform(lat_range[0], lat_range[1], size=100) #1500\n",
    "lngs = np.random.uniform(lng_range[0], lng_range[1], size=100)\n",
    "lat_lngs = zip(lats, lngs)\n",
    "\n",
    "# Identify nearest city for each lat, lng combination\n",
    "for lat_lng in lat_lngs:\n",
    "    city = citipy.nearest_city(lat_lng[0], lat_lng[1]).city_name\n",
    "    \n",
    "    # If the city is unique, then add it to a our cities list\n",
    "    if city not in cities:\n",
    "        cities.append(city)\n",
    "\n",
    "# Print the city count to confirm sufficient count\n",
    "len(cities)"
   ]
  },
  {
   "cell_type": "markdown",
   "metadata": {},
   "source": [
    "### Perform API Calls\n",
    "* Perform a weather check on each city using a series of successive API calls.\n",
    "* Include a print log of each city as it'sbeing processed (with the city number and city name).\n"
   ]
  },
  {
   "cell_type": "code",
   "execution_count": 3,
   "metadata": {
    "scrolled": true
   },
   "outputs": [
    {
     "name": "stdout",
     "output_type": "stream",
     "text": [
      "Beginning Data Retrieval\n",
      "-----------------------------\n",
      "City not Found. Skipping...\n",
      "Processing Record 1 of Set 1 | Port Alfred - 964432\n",
      "Processing Record 2 of Set 1 | Ushuaia - 3833367\n",
      "Processing Record 3 of Set 1 | Punta Arenas - 3874787\n",
      "Processing Record 4 of Set 1 | Atuona - 4020109\n",
      "Processing Record 5 of Set 1 | Katsuura - 2112309\n",
      "Processing Record 6 of Set 1 | Asău - 686090\n",
      "Processing Record 7 of Set 1 | Tucumcari - 5495360\n",
      "Processing Record 8 of Set 1 | Namwala - 901766\n",
      "Processing Record 9 of Set 1 | Bluff - 2206939\n",
      "Processing Record 10 of Set 1 | Cape Town - 3369157\n",
      "Processing Record 11 of Set 1 | Port Elizabeth - 964420\n",
      "Processing Record 12 of Set 1 | Coxim - 3465228\n",
      "Processing Record 13 of Set 1 | Mataura - 6201424\n",
      "Processing Record 14 of Set 1 | Cascais - 2269594\n",
      "Processing Record 15 of Set 1 | Cherskiy - 2126199\n",
      "Processing Record 16 of Set 1 | Kerchevskiy - 551047\n",
      "Processing Record 17 of Set 1 | Mar del Plata - 3430863\n",
      "Processing Record 18 of Set 1 | San Joaquin - 5392126\n",
      "Processing Record 19 of Set 1 | George Town - 1735106\n",
      "Processing Record 20 of Set 1 | São Filipe - 3374210\n",
      "Processing Record 21 of Set 1 | Bengkulu - 1649150\n",
      "Processing Record 22 of Set 1 | Airai - 1651810\n",
      "City not Found. Skipping...\n",
      "Processing Record 23 of Set 1 | Vostok - 2013279\n",
      "Processing Record 24 of Set 1 | Gondanglegi - 1640660\n",
      "Processing Record 25 of Set 1 | Abnūb - 362973\n",
      "Processing Record 26 of Set 1 | Saldanha - 3361934\n",
      "Processing Record 27 of Set 1 | Longyearbyen - 2729907\n",
      "Processing Record 28 of Set 1 | Geraldton - 2070998\n",
      "Processing Record 29 of Set 1 | Jamestown - 5122534\n",
      "Processing Record 30 of Set 1 | Castro - 3466704\n",
      "Processing Record 31 of Set 1 | Saint Paul Harbor - 5866583\n",
      "City not Found. Skipping...\n",
      "Processing Record 32 of Set 1 | Esperance - 2071860\n",
      "Processing Record 33 of Set 1 | Bredasdorp - 1015776\n",
      "Processing Record 34 of Set 1 | Kununurra - 2068110\n",
      "Processing Record 35 of Set 1 | Gualeguay - 3433663\n",
      "Processing Record 36 of Set 1 | San Miguel de Tucumán - 3836873\n",
      "Processing Record 37 of Set 1 | Tuktoyaktuk - 6170031\n",
      "Processing Record 38 of Set 1 | Zheshart - 463144\n",
      "Processing Record 39 of Set 1 | Truth or Consequences - 5495292\n",
      "Processing Record 40 of Set 1 | Mandalgovi - 2030065\n",
      "Processing Record 41 of Set 1 | Avarua - 4035715\n",
      "Processing Record 42 of Set 1 | Tabas - 113659\n",
      "Processing Record 43 of Set 1 | Myitkyina - 1307741\n",
      "Processing Record 44 of Set 1 | Lavrentiya - 4031637\n",
      "Processing Record 45 of Set 1 | Elko - 5703673\n",
      "Processing Record 46 of Set 1 | Gombong - 1643920\n",
      "City not Found. Skipping...\n",
      "City not Found. Skipping...\n",
      "Processing Record 47 of Set 1 | Rikitea - 4030556\n",
      "Processing Record 48 of Set 1 | Banjarmasin - 1650213\n",
      "Processing Record 49 of Set 1 | Tiksi - 2015306\n",
      "City not Found. Skipping...\n",
      "Processing Record 50 of Set 1 | Saint George - 5546220\n",
      "Processing Record 1 of Set 2 | Puerto Ayora - 3652764\n",
      "Processing Record 2 of Set 2 | Busselton - 2075265\n",
      "Processing Record 3 of Set 2 | Litovko - 2020738\n",
      "Processing Record 4 of Set 2 | Constitución - 3893726\n",
      "Processing Record 5 of Set 2 | Chapais - 5919850\n",
      "Processing Record 6 of Set 2 | Chokurdakh - 2126123\n",
      "City not Found. Skipping...\n",
      "Processing Record 7 of Set 2 | Jatiroto - 1642692\n",
      "Processing Record 8 of Set 2 | Shubarkuduk - 608271\n",
      "City not Found. Skipping...\n",
      "Processing Record 9 of Set 2 | Huautla - 3526989\n",
      "City not Found. Skipping...\n",
      "Processing Record 10 of Set 2 | Hambantota - 1244926\n",
      "Processing Record 11 of Set 2 | Bathsheba - 3374083\n",
      "Processing Record 12 of Set 2 | Masumbwe - 154654\n",
      "Processing Record 13 of Set 2 | Lebu - 3883457\n",
      "Processing Record 14 of Set 2 | Bunia - 217695\n",
      "Processing Record 15 of Set 2 | Vaini - 4032243\n",
      "Processing Record 16 of Set 2 | Khromtau - 609404\n",
      "Processing Record 17 of Set 2 | Santa Cruz de la Sierra - 3904906\n",
      "Processing Record 18 of Set 2 | Hobart - 2163355\n",
      "-----------------------------\n",
      "Data Retrieval Complete\n",
      "-----------------------------\n"
     ]
    }
   ],
   "source": [
    "#construct URL\n",
    "url = \"http://api.openweathermap.org/data/2.5/weather?\"\n",
    "units = \"imperial\"\n",
    "\n",
    "# Build partial query URL\n",
    "query_url = f\"{url}appid={weather_api_key}&q=\"  #&units={units}\n",
    "#print(query_url) #sanity check\n",
    "\n",
    "#declare variables for holdin' and incrementing\n",
    "recIncrem = 1\n",
    "setIncrem = 1\n",
    "\n",
    "lat = []\n",
    "lon = []\n",
    "maxTemp = []\n",
    "humidity = []\n",
    "cloudiness = []\n",
    "windSpeed = []\n",
    "country = []\n",
    "date = []\n",
    "cityList = []\n",
    "\n",
    "#start of output and data retrieval\n",
    "print(\"Beginning Data Retrieval\")\n",
    "print(\"-----------------------------\")\n",
    "\n",
    "#loop through to get weather data for each city\n",
    "for city in cities:    \n",
    "    try:\n",
    "        response = requests.get(query_url+city).json()\n",
    "        \n",
    "        #getting values!\n",
    "        cityList.append(response['name'])\n",
    "        lat.append(response['coord']['lat'])\n",
    "        lon.append(response['coord']['lon'])\n",
    "        maxTemp.append(response['main']['temp_max'])\n",
    "        humidity.append(response['main']['humidity'])\n",
    "        cloudiness.append(response['visibility'])\n",
    "        windSpeed.append(response['wind']['speed'])\n",
    "        country.append(response['sys']['country'])\n",
    "        date.append(response['dt'])\n",
    "        \n",
    "        #print(response[\"name\"]) #sanity check\n",
    "        print(f\"Processing Record {recIncrem} of Set {setIncrem} | {response['name']} - {response['id']}\")\n",
    "        \n",
    "        #setting up the output record number and sets\n",
    "        recIncrem += 1\n",
    "        \n",
    "        if recIncrem > 50:\n",
    "            setIncrem += 1\n",
    "            recIncrem = 1\n",
    "            \n",
    "    except KeyError:\n",
    "        print(f\"City not Found. Skipping...\")\n",
    "        \n",
    "print(\"-----------------------------\")\n",
    "print(\"Data Retrieval Complete\")\n",
    "print(\"-----------------------------\")\n"
   ]
  },
  {
   "cell_type": "markdown",
   "metadata": {},
   "source": [
    "### Convert Raw Data to DataFrame\n",
    "* Export the city data into a .csv.\n",
    "* Display the DataFrame"
   ]
  },
  {
   "cell_type": "code",
   "execution_count": 4,
   "metadata": {},
   "outputs": [
    {
     "data": {
      "text/html": [
       "<div>\n",
       "<style scoped>\n",
       "    .dataframe tbody tr th:only-of-type {\n",
       "        vertical-align: middle;\n",
       "    }\n",
       "\n",
       "    .dataframe tbody tr th {\n",
       "        vertical-align: top;\n",
       "    }\n",
       "\n",
       "    .dataframe thead th {\n",
       "        text-align: right;\n",
       "    }\n",
       "</style>\n",
       "<table border=\"1\" class=\"dataframe\">\n",
       "  <thead>\n",
       "    <tr style=\"text-align: right;\">\n",
       "      <th></th>\n",
       "      <th>City</th>\n",
       "      <th>Lat</th>\n",
       "      <th>Lng</th>\n",
       "      <th>Max Temp</th>\n",
       "      <th>Humidity</th>\n",
       "      <th>Cloudiness</th>\n",
       "      <th>Wind Speed</th>\n",
       "      <th>Country</th>\n",
       "      <th>Date</th>\n",
       "    </tr>\n",
       "  </thead>\n",
       "  <tbody>\n",
       "    <tr>\n",
       "      <th>0</th>\n",
       "      <td>Port Alfred</td>\n",
       "      <td>-33.5906</td>\n",
       "      <td>26.8910</td>\n",
       "      <td>295.43</td>\n",
       "      <td>69</td>\n",
       "      <td>10000</td>\n",
       "      <td>11.82</td>\n",
       "      <td>ZA</td>\n",
       "      <td>1619184827</td>\n",
       "    </tr>\n",
       "    <tr>\n",
       "      <th>1</th>\n",
       "      <td>Ushuaia</td>\n",
       "      <td>-54.8000</td>\n",
       "      <td>-68.3000</td>\n",
       "      <td>278.15</td>\n",
       "      <td>93</td>\n",
       "      <td>10000</td>\n",
       "      <td>1.54</td>\n",
       "      <td>AR</td>\n",
       "      <td>1619184693</td>\n",
       "    </tr>\n",
       "    <tr>\n",
       "      <th>2</th>\n",
       "      <td>Punta Arenas</td>\n",
       "      <td>-53.1500</td>\n",
       "      <td>-70.9167</td>\n",
       "      <td>281.15</td>\n",
       "      <td>93</td>\n",
       "      <td>300</td>\n",
       "      <td>1.54</td>\n",
       "      <td>CL</td>\n",
       "      <td>1619184669</td>\n",
       "    </tr>\n",
       "  </tbody>\n",
       "</table>\n",
       "</div>"
      ],
      "text/plain": [
       "           City      Lat      Lng  Max Temp  Humidity  Cloudiness  Wind Speed  \\\n",
       "0   Port Alfred -33.5906  26.8910    295.43        69       10000       11.82   \n",
       "1       Ushuaia -54.8000 -68.3000    278.15        93       10000        1.54   \n",
       "2  Punta Arenas -53.1500 -70.9167    281.15        93         300        1.54   \n",
       "\n",
       "  Country        Date  \n",
       "0      ZA  1619184827  \n",
       "1      AR  1619184693  \n",
       "2      CL  1619184669  "
      ]
     },
     "execution_count": 4,
     "metadata": {},
     "output_type": "execute_result"
    }
   ],
   "source": [
    "#create dict to dataframe of cities and weather information\n",
    "weatherDict = {\n",
    "    \"City\" : cityList,\n",
    "    \"Lat\" : lat,\n",
    "    \"Lng\" : lon,\n",
    "    \"Max Temp\" : maxTemp,\n",
    "    \"Humidity\" : humidity,\n",
    "    \"Cloudiness\" : cloudiness,\n",
    "    \"Wind Speed\" : windSpeed,\n",
    "    \"Country\" : country,\n",
    "    \"Date\" : date\n",
    "}\n",
    "\n",
    "#convert dictionary to df\n",
    "weatherDF = pd.DataFrame(weatherDict)\n",
    "\n",
    "#declare csv output path\n",
    "outputPath=\"Output/\"\n",
    "outputCsv= outputPath+\"weather.csv\"\n",
    "\n",
    "# Export file as a CSV, without the Pandas index, but with the header\n",
    "weatherDF.to_csv(outputCsv, index=False, header=True)\n",
    "\n",
    "#display\n",
    "weatherDF.head(3)"
   ]
  },
  {
   "cell_type": "code",
   "execution_count": 5,
   "metadata": {},
   "outputs": [
    {
     "data": {
      "text/html": [
       "<div>\n",
       "<style scoped>\n",
       "    .dataframe tbody tr th:only-of-type {\n",
       "        vertical-align: middle;\n",
       "    }\n",
       "\n",
       "    .dataframe tbody tr th {\n",
       "        vertical-align: top;\n",
       "    }\n",
       "\n",
       "    .dataframe thead th {\n",
       "        text-align: right;\n",
       "    }\n",
       "</style>\n",
       "<table border=\"1\" class=\"dataframe\">\n",
       "  <thead>\n",
       "    <tr style=\"text-align: right;\">\n",
       "      <th></th>\n",
       "      <th>Lat</th>\n",
       "      <th>Lng</th>\n",
       "      <th>Max Temp</th>\n",
       "      <th>Humidity</th>\n",
       "      <th>Cloudiness</th>\n",
       "      <th>Wind Speed</th>\n",
       "      <th>Date</th>\n",
       "    </tr>\n",
       "  </thead>\n",
       "  <tbody>\n",
       "    <tr>\n",
       "      <th>count</th>\n",
       "      <td>68.000000</td>\n",
       "      <td>68.000000</td>\n",
       "      <td>68.000000</td>\n",
       "      <td>68.000000</td>\n",
       "      <td>68.000000</td>\n",
       "      <td>68.000000</td>\n",
       "      <td>6.800000e+01</td>\n",
       "    </tr>\n",
       "    <tr>\n",
       "      <th>mean</th>\n",
       "      <td>7.332163</td>\n",
       "      <td>10.661175</td>\n",
       "      <td>288.383088</td>\n",
       "      <td>70.367647</td>\n",
       "      <td>9343.573529</td>\n",
       "      <td>3.714853</td>\n",
       "      <td>1.619185e+09</td>\n",
       "    </tr>\n",
       "    <tr>\n",
       "      <th>std</th>\n",
       "      <td>38.353841</td>\n",
       "      <td>101.316151</td>\n",
       "      <td>12.220155</td>\n",
       "      <td>22.295106</td>\n",
       "      <td>1939.344029</td>\n",
       "      <td>2.762198</td>\n",
       "      <td>4.683557e+01</td>\n",
       "    </tr>\n",
       "    <tr>\n",
       "      <th>min</th>\n",
       "      <td>-54.800000</td>\n",
       "      <td>-175.200000</td>\n",
       "      <td>248.780000</td>\n",
       "      <td>10.000000</td>\n",
       "      <td>300.000000</td>\n",
       "      <td>0.450000</td>\n",
       "      <td>1.619185e+09</td>\n",
       "    </tr>\n",
       "    <tr>\n",
       "      <th>25%</th>\n",
       "      <td>-27.309750</td>\n",
       "      <td>-72.725025</td>\n",
       "      <td>282.592500</td>\n",
       "      <td>58.000000</td>\n",
       "      <td>10000.000000</td>\n",
       "      <td>1.485000</td>\n",
       "      <td>1.619185e+09</td>\n",
       "    </tr>\n",
       "    <tr>\n",
       "      <th>50%</th>\n",
       "      <td>-2.031850</td>\n",
       "      <td>25.985050</td>\n",
       "      <td>290.760000</td>\n",
       "      <td>73.000000</td>\n",
       "      <td>10000.000000</td>\n",
       "      <td>3.090000</td>\n",
       "      <td>1.619185e+09</td>\n",
       "    </tr>\n",
       "    <tr>\n",
       "      <th>75%</th>\n",
       "      <td>41.274400</td>\n",
       "      <td>109.914825</td>\n",
       "      <td>297.200000</td>\n",
       "      <td>88.000000</td>\n",
       "      <td>10000.000000</td>\n",
       "      <td>5.142500</td>\n",
       "      <td>1.619185e+09</td>\n",
       "    </tr>\n",
       "    <tr>\n",
       "      <th>max</th>\n",
       "      <td>78.218600</td>\n",
       "      <td>168.864300</td>\n",
       "      <td>307.490000</td>\n",
       "      <td>100.000000</td>\n",
       "      <td>10000.000000</td>\n",
       "      <td>11.820000</td>\n",
       "      <td>1.619185e+09</td>\n",
       "    </tr>\n",
       "  </tbody>\n",
       "</table>\n",
       "</div>"
      ],
      "text/plain": [
       "             Lat         Lng    Max Temp    Humidity    Cloudiness  \\\n",
       "count  68.000000   68.000000   68.000000   68.000000     68.000000   \n",
       "mean    7.332163   10.661175  288.383088   70.367647   9343.573529   \n",
       "std    38.353841  101.316151   12.220155   22.295106   1939.344029   \n",
       "min   -54.800000 -175.200000  248.780000   10.000000    300.000000   \n",
       "25%   -27.309750  -72.725025  282.592500   58.000000  10000.000000   \n",
       "50%    -2.031850   25.985050  290.760000   73.000000  10000.000000   \n",
       "75%    41.274400  109.914825  297.200000   88.000000  10000.000000   \n",
       "max    78.218600  168.864300  307.490000  100.000000  10000.000000   \n",
       "\n",
       "       Wind Speed          Date  \n",
       "count   68.000000  6.800000e+01  \n",
       "mean     3.714853  1.619185e+09  \n",
       "std      2.762198  4.683557e+01  \n",
       "min      0.450000  1.619185e+09  \n",
       "25%      1.485000  1.619185e+09  \n",
       "50%      3.090000  1.619185e+09  \n",
       "75%      5.142500  1.619185e+09  \n",
       "max     11.820000  1.619185e+09  "
      ]
     },
     "execution_count": 5,
     "metadata": {},
     "output_type": "execute_result"
    }
   ],
   "source": [
    "#display statistics\n",
    "weatherDF.describe()"
   ]
  },
  {
   "cell_type": "markdown",
   "metadata": {},
   "source": [
    "## Inspect the data and remove the cities where the humidity > 100%.\n",
    "----\n",
    "Skip this step if there are no cities that have humidity > 100%. "
   ]
  },
  {
   "cell_type": "code",
   "execution_count": 6,
   "metadata": {},
   "outputs": [
    {
     "data": {
      "text/html": [
       "<div>\n",
       "<style scoped>\n",
       "    .dataframe tbody tr th:only-of-type {\n",
       "        vertical-align: middle;\n",
       "    }\n",
       "\n",
       "    .dataframe tbody tr th {\n",
       "        vertical-align: top;\n",
       "    }\n",
       "\n",
       "    .dataframe thead th {\n",
       "        text-align: right;\n",
       "    }\n",
       "</style>\n",
       "<table border=\"1\" class=\"dataframe\">\n",
       "  <thead>\n",
       "    <tr style=\"text-align: right;\">\n",
       "      <th></th>\n",
       "      <th>City</th>\n",
       "      <th>Lat</th>\n",
       "      <th>Lng</th>\n",
       "      <th>Max Temp</th>\n",
       "      <th>Humidity</th>\n",
       "      <th>Cloudiness</th>\n",
       "      <th>Wind Speed</th>\n",
       "      <th>Country</th>\n",
       "      <th>Date</th>\n",
       "    </tr>\n",
       "  </thead>\n",
       "  <tbody>\n",
       "  </tbody>\n",
       "</table>\n",
       "</div>"
      ],
      "text/plain": [
       "Empty DataFrame\n",
       "Columns: [City, Lat, Lng, Max Temp, Humidity, Cloudiness, Wind Speed, Country, Date]\n",
       "Index: []"
      ]
     },
     "execution_count": 6,
     "metadata": {},
     "output_type": "execute_result"
    }
   ],
   "source": [
    "#check for humidity >100% if none exists reuse dataframe\n",
    "miserableDF = weatherDF.loc[(weatherDF[\"Humidity\"] > 100.00)]\n",
    "miserableDF"
   ]
  },
  {
   "cell_type": "code",
   "execution_count": 7,
   "metadata": {},
   "outputs": [
    {
     "data": {
      "text/plain": [
       "[]"
      ]
     },
     "execution_count": 7,
     "metadata": {},
     "output_type": "execute_result"
    }
   ],
   "source": [
    "#  Get the indices of cities that have humidity over 100%.\n",
    "indexList = miserableDF.index.tolist()\n",
    "indexList"
   ]
  },
  {
   "cell_type": "markdown",
   "metadata": {},
   "source": [
    "# * BELOW NEEDS ATTENTION"
   ]
  },
  {
   "cell_type": "code",
   "execution_count": 22,
   "metadata": {},
   "outputs": [
    {
     "data": {
      "text/html": [
       "<div>\n",
       "<style scoped>\n",
       "    .dataframe tbody tr th:only-of-type {\n",
       "        vertical-align: middle;\n",
       "    }\n",
       "\n",
       "    .dataframe tbody tr th {\n",
       "        vertical-align: top;\n",
       "    }\n",
       "\n",
       "    .dataframe thead th {\n",
       "        text-align: right;\n",
       "    }\n",
       "</style>\n",
       "<table border=\"1\" class=\"dataframe\">\n",
       "  <thead>\n",
       "    <tr style=\"text-align: right;\">\n",
       "      <th></th>\n",
       "      <th>City</th>\n",
       "      <th>Lat</th>\n",
       "      <th>Lng</th>\n",
       "      <th>Max Temp</th>\n",
       "      <th>Humidity</th>\n",
       "      <th>Cloudiness</th>\n",
       "      <th>Wind Speed</th>\n",
       "      <th>Country</th>\n",
       "      <th>Date</th>\n",
       "    </tr>\n",
       "  </thead>\n",
       "  <tbody>\n",
       "    <tr>\n",
       "      <th>0</th>\n",
       "      <td>Port Alfred</td>\n",
       "      <td>-33.5906</td>\n",
       "      <td>26.8910</td>\n",
       "      <td>295.43</td>\n",
       "      <td>69</td>\n",
       "      <td>10000</td>\n",
       "      <td>11.82</td>\n",
       "      <td>ZA</td>\n",
       "      <td>2021-04-23 13:33:47</td>\n",
       "    </tr>\n",
       "    <tr>\n",
       "      <th>1</th>\n",
       "      <td>Ushuaia</td>\n",
       "      <td>-54.8000</td>\n",
       "      <td>-68.3000</td>\n",
       "      <td>278.15</td>\n",
       "      <td>93</td>\n",
       "      <td>10000</td>\n",
       "      <td>1.54</td>\n",
       "      <td>AR</td>\n",
       "      <td>2021-04-23 13:31:33</td>\n",
       "    </tr>\n",
       "    <tr>\n",
       "      <th>2</th>\n",
       "      <td>Punta Arenas</td>\n",
       "      <td>-53.1500</td>\n",
       "      <td>-70.9167</td>\n",
       "      <td>281.15</td>\n",
       "      <td>93</td>\n",
       "      <td>300</td>\n",
       "      <td>1.54</td>\n",
       "      <td>CL</td>\n",
       "      <td>2021-04-23 13:31:09</td>\n",
       "    </tr>\n",
       "    <tr>\n",
       "      <th>3</th>\n",
       "      <td>Atuona</td>\n",
       "      <td>-9.8000</td>\n",
       "      <td>-139.0333</td>\n",
       "      <td>299.97</td>\n",
       "      <td>78</td>\n",
       "      <td>10000</td>\n",
       "      <td>10.06</td>\n",
       "      <td>PF</td>\n",
       "      <td>2021-04-23 13:33:47</td>\n",
       "    </tr>\n",
       "    <tr>\n",
       "      <th>4</th>\n",
       "      <td>Katsuura</td>\n",
       "      <td>35.1333</td>\n",
       "      <td>140.3000</td>\n",
       "      <td>286.15</td>\n",
       "      <td>71</td>\n",
       "      <td>10000</td>\n",
       "      <td>5.14</td>\n",
       "      <td>JP</td>\n",
       "      <td>2021-04-23 13:33:47</td>\n",
       "    </tr>\n",
       "  </tbody>\n",
       "</table>\n",
       "</div>"
      ],
      "text/plain": [
       "           City      Lat       Lng  Max Temp  Humidity  Cloudiness  \\\n",
       "0   Port Alfred -33.5906   26.8910    295.43        69       10000   \n",
       "1       Ushuaia -54.8000  -68.3000    278.15        93       10000   \n",
       "2  Punta Arenas -53.1500  -70.9167    281.15        93         300   \n",
       "3        Atuona  -9.8000 -139.0333    299.97        78       10000   \n",
       "4      Katsuura  35.1333  140.3000    286.15        71       10000   \n",
       "\n",
       "   Wind Speed Country                Date  \n",
       "0       11.82      ZA 2021-04-23 13:33:47  \n",
       "1        1.54      AR 2021-04-23 13:31:33  \n",
       "2        1.54      CL 2021-04-23 13:31:09  \n",
       "3       10.06      PF 2021-04-23 13:33:47  \n",
       "4        5.14      JP 2021-04-23 13:33:47  "
      ]
     },
     "execution_count": 22,
     "metadata": {},
     "output_type": "execute_result"
    }
   ],
   "source": [
    "# Make a new DataFrame equal to the city data to drop all humidity outliers by index.\n",
    "# Passing \"inplace=False\" will make a copy of the city_data DataFrame, which we call \"clean_city_data\".\n",
    "\n",
    "cleanCityData = weatherDF.loc[(weatherDF[\"Humidity\"] <= 100.00)]\n",
    "cleanCityData[\"Date\"] = pd.to_datetime(weatherDF[\"Date\"], unit ='s')\n",
    "cleanCityData.head()"
   ]
  },
  {
   "cell_type": "markdown",
   "metadata": {},
   "source": [
    "## Plotting the Data\n",
    "* Use proper labeling of the plots using plot titles (including date of analysis) and axes labels.\n",
    "* Save the plotted figures as .pngs."
   ]
  },
  {
   "cell_type": "markdown",
   "metadata": {},
   "source": [
    "## Latitude vs. Temperature Plot"
   ]
  },
  {
   "cell_type": "markdown",
   "metadata": {},
   "source": [
    "# ABOVE NEEDS ATTENTION\n",
    "- fix title with date\n",
    "- do analysis"
   ]
  },
  {
   "cell_type": "code",
   "execution_count": 25,
   "metadata": {
    "scrolled": true
   },
   "outputs": [
    {
     "data": {
      "image/png": "[encoded data removed]",
      "text/plain": [
       "<Figure size 432x288 with 1 Axes>"
      ]
     },
     "metadata": {
      "needs_background": "light"
     },
     "output_type": "display_data"
    }
   ],
   "source": [
    "#plotting.... for evil... bwahahahahahahahahahaha\n",
    "outputLatTemp = outputPath + \"figureLatTemp.png\"\n",
    "xAxis = cleanCityData[\"Lat\"]\n",
    "yAxis = cleanCityData[\"Max Temp\"]\n",
    "\n",
    "plt.scatter(xAxis, yAxis, marker = 'o', c='green', edgecolors=\"purple\")\n",
    "plt.title(f\"City Latitude vs. Max Temperature ({today})\")\n",
    "plt.xlabel(\"Latitude\")\n",
    "plt.ylabel(\"Max Temperature (F)\")\n",
    "plt.grid()\n",
    "plt.savefig(outputLatTemp)\n",
    "plt.show()\n"
   ]
  },
  {
   "cell_type": "markdown",
   "metadata": {},
   "source": [
    "## Latitude vs. Humidity Plot"
   ]
  },
  {
   "cell_type": "code",
   "execution_count": 21,
   "metadata": {},
   "outputs": [
    {
     "data": {
      "image/png": "[encoded data removed]",
      "text/plain": [
       "<Figure size 432x288 with 1 Axes>"
      ]
     },
     "metadata": {
      "needs_background": "light"
     },
     "output_type": "display_data"
    }
   ],
   "source": [
    "#plotting.... for major evil... bwahahahahahahahahahaha\n",
    "outputLatHum = outputPath + \"figureLatHum.png\"\n",
    "xAxis = cleanCityData[\"Lat\"]\n",
    "yAxis = cleanCityData[\"Humidity\"]\n",
    "\n",
    "plt.scatter(xAxis, yAxis, marker = 'o', c='yellow', edgecolors=\"red\", s=60)\n",
    "plt.title(f\"City Latitude vs. Humidity ({today})\")\n",
    "plt.xlabel(\"Latitude\")\n",
    "plt.ylabel(\"Humidity (%)\")\n",
    "plt.grid()\n",
    "plt.savefig(outputLatHum)\n",
    "plt.show()"
   ]
  },
  {
   "cell_type": "markdown",
   "metadata": {},
   "source": [
    "## Latitude vs. Cloudiness Plot"
   ]
  },
  {
   "cell_type": "code",
   "execution_count": 20,
   "metadata": {},
   "outputs": [
    {
     "data": {
      "image/png": "[encoded data removed]",
      "text/plain": [
       "<Figure size 432x288 with 1 Axes>"
      ]
     },
     "metadata": {
      "needs_background": "light"
     },
     "output_type": "display_data"
    }
   ],
   "source": [
    "#plotting.... for major evil... bwahahahahahahahahahaha\n",
    "outputLatCloud = outputPath + \"figureLatCloud.png\"\n",
    "xAxis = cleanCityData[\"Lat\"]\n",
    "yAxis = cleanCityData[\"Cloudiness\"]\n",
    "\n",
    "plt.scatter(xAxis, yAxis, marker = 'x', c='red', edgecolors=\"black\", s=60)\n",
    "plt.title(f\"City Latitude vs. Cloudiness ({today})\")\n",
    "plt.xlabel(\"Latitude\")\n",
    "plt.ylabel(\"Cloudiness (%)\")\n",
    "plt.grid()\n",
    "plt.savefig(outputLatCloud)\n",
    "plt.show()"
   ]
  },
  {
   "cell_type": "markdown",
   "metadata": {},
   "source": [
    "## Latitude vs. Wind Speed Plot"
   ]
  },
  {
   "cell_type": "code",
   "execution_count": 19,
   "metadata": {},
   "outputs": [
    {
     "data": {
      "image/png": "[encoded data removed]",
      "text/plain": [
       "<Figure size 432x288 with 1 Axes>"
      ]
     },
     "metadata": {
      "needs_background": "light"
     },
     "output_type": "display_data"
    }
   ],
   "source": [
    "#plotting.... for major evil... bwahahahahahahahahahaha\n",
    "outputLatWind = outputPath + \"figureLatWind.png\"\n",
    "xAxis = cleanCityData[\"Lat\"]\n",
    "yAxis = cleanCityData[\"Wind Speed\"]\n",
    "\n",
    "plt.scatter(xAxis, yAxis, marker = '4', c='orange', edgecolors=\"blue\", s=60)\n",
    "plt.title(f\"City Latitude vs. Wind Speed ({today})\")\n",
    "plt.xlabel(\"Latitude\")\n",
    "plt.ylabel(\"Wind Speed (mph)\")\n",
    "plt.grid()\n",
    "plt.savefig(outputLatWind)\n",
    "plt.show()"
   ]
  },
  {
   "cell_type": "markdown",
   "metadata": {},
   "source": [
    "## Linear Regression"
   ]
  },
  {
   "cell_type": "markdown",
   "metadata": {},
   "source": [
    "#### Methods for efficiency"
   ]
  },
  {
   "cell_type": "code",
   "execution_count": 173,
   "metadata": {},
   "outputs": [],
   "source": [
    "def linearStatement (someNum):\n",
    "    numCheck = abs(someNum[0])\n",
    "    outputStr = f\"The r-value is: {round(someNum[0],3)}. This designates \"\n",
    "    if numCheck >= .7: # i believe this was in the class slides for day 3.\n",
    "        outputStr += \"a strong relationship.\"\n",
    "    elif numCheck >= .5:\n",
    "        outputStr += \"a moderate relationship.\"\n",
    "    elif numCheck >= .3:\n",
    "        outputStr += \"a weak relationship.\"\n",
    "    else:\n",
    "        outputStr += \"either no or very weak relationship.\"\n",
    "    \n",
    "    return outputStr\n",
    "    \n",
    "#print(linearStatement([.73])) #sanity check"
   ]
  },
  {
   "cell_type": "code",
   "execution_count": 163,
   "metadata": {},
   "outputs": [],
   "source": [
    "#method to create the different plots\n",
    "def createPlot (xCol, yCol, xLab, yLab, title):\n",
    "    #get plot (dot) data\n",
    "    dotX = xCol\n",
    "    dotY = yCol\n",
    "\n",
    "    #get line for linearness\n",
    "    (slope, intercept, rvalue, pvalue, stderr) = linregress(dotX, dotY)\n",
    "    regressVals = dotX * slope + intercept\n",
    "    lineEQ =  \"y = \" + str(round(slope,3)) + \"x + \" + str(round(intercept,3))\n",
    "\n",
    "    #create annotation coordinates\n",
    "    xStart = int(dotX.min())\n",
    "    yStart = int(dotY.min()) + 3\n",
    "    if xStart < 0:\n",
    "        xStart = -30\n",
    "        \n",
    "    #calculate correlation coeff\n",
    "    corCoef = st.pearsonr(dotX, dotY)\n",
    "\n",
    "    #print the r value\n",
    "    print(linearStatement(corCoef)+\"\\n\")\n",
    "\n",
    "    #plot\n",
    "    plt.scatter(dotX, dotY, marker= 'o', c=\"purple\", s=60, edgecolors=\"purple\")\n",
    "    plt.plot(dotX,regressVals,\"r-\")\n",
    "    plt.xlabel(xLab)\n",
    "    plt.ylabel(yLab)\n",
    "    plt.title(title)\n",
    "    #annotating because we learned this in class :)\n",
    "    plt.annotate(lineEQ,(xStart,yStart),fontsize=13,color=\"red\")\n",
    "\n",
    "    plt.show()\n",
    "    \n",
    "#createPlot(nHemiDF[\"Lat\"],nHemiDF[\"Max Temp\"],\"Latitude\",\"Max Temp\") #sanity check"
   ]
  },
  {
   "cell_type": "code",
   "execution_count": 164,
   "metadata": {},
   "outputs": [],
   "source": [
    "#create dataframes for the different hemispheres\n",
    "nHemiDF = cleanCityData.loc[(weatherDF[\"Lat\"] > 0)]\n",
    "sHemiDF = cleanCityData.loc[(weatherDF[\"Lat\"] < 0)]"
   ]
  },
  {
   "cell_type": "markdown",
   "metadata": {},
   "source": [
    "####  Northern Hemisphere - Max Temp vs. Latitude Linear Regression"
   ]
  },
  {
   "cell_type": "code",
   "execution_count": 174,
   "metadata": {},
   "outputs": [
    {
     "name": "stdout",
     "output_type": "stream",
     "text": [
      "The r-value is: -0.855. This designates a strong relationship.\n",
      "\n"
     ]
    },
    {
     "data": {
      "image/png": "[encoded data removed]",
      "text/plain": [
       "<Figure size 432x288 with 1 Axes>"
      ]
     },
     "metadata": {
      "needs_background": "light"
     },
     "output_type": "display_data"
    }
   ],
   "source": [
    "createPlot(nHemiDF[\"Lat\"],nHemiDF[\"Max Temp\"],\"Latitude\",\"Max Temp\",\"Max Temp vs. Latitude Linear Regression\")"
   ]
  },
  {
   "cell_type": "markdown",
   "metadata": {},
   "source": [
    "####  Southern Hemisphere - Max Temp vs. Latitude Linear Regression"
   ]
  },
  {
   "cell_type": "code",
   "execution_count": 166,
   "metadata": {},
   "outputs": [
    {
     "name": "stdout",
     "output_type": "stream",
     "text": [
      "The r-value is: 0.76. This designates a strong relationship.\n",
      "\n"
     ]
    },
    {
     "data": {
      "image/png": "[encoded data removed]",
      "text/plain": [
       "<Figure size 432x288 with 1 Axes>"
      ]
     },
     "metadata": {
      "needs_background": "light"
     },
     "output_type": "display_data"
    }
   ],
   "source": [
    "createPlot(sHemiDF[\"Lat\"],sHemiDF[\"Max Temp\"],\"Latitude\",\"Max Temp\",\"Max Temp vs. Latitude Linear Regression\")"
   ]
  },
  {
   "cell_type": "markdown",
   "metadata": {},
   "source": [
    "####  Northern Hemisphere - Humidity (%) vs. Latitude Linear Regression"
   ]
  },
  {
   "cell_type": "code",
   "execution_count": 167,
   "metadata": {},
   "outputs": [
    {
     "name": "stdout",
     "output_type": "stream",
     "text": [
      "The r-value is: 0.26. This designates either no or very weak relationship.\n",
      "\n"
     ]
    },
    {
     "data": {
      "image/png": "[encoded data removed]",
      "text/plain": [
       "<Figure size 432x288 with 1 Axes>"
      ]
     },
     "metadata": {
      "needs_background": "light"
     },
     "output_type": "display_data"
    }
   ],
   "source": [
    "createPlot(nHemiDF[\"Lat\"],nHemiDF[\"Humidity\"],\"Latitude\",\"Humidity\",\"Humidity (%) vs. Latitude Linear Regression\")"
   ]
  },
  {
   "cell_type": "markdown",
   "metadata": {},
   "source": [
    "####  Southern Hemisphere - Humidity (%) vs. Latitude Linear Regression"
   ]
  },
  {
   "cell_type": "code",
   "execution_count": 168,
   "metadata": {},
   "outputs": [
    {
     "name": "stdout",
     "output_type": "stream",
     "text": [
      "The r-value is: 0.037. This designates either no or very weak relationship.\n",
      "\n"
     ]
    },
    {
     "data": {
      "image/png": "[encoded data removed]",
      "text/plain": [
       "<Figure size 432x288 with 1 Axes>"
      ]
     },
     "metadata": {
      "needs_background": "light"
     },
     "output_type": "display_data"
    }
   ],
   "source": [
    "createPlot(sHemiDF[\"Lat\"],sHemiDF[\"Humidity\"],\"Latitude\",\"Humidity\",\"Humidity (%) vs. Latitude Linear Regression\")"
   ]
  },
  {
   "cell_type": "markdown",
   "metadata": {},
   "source": [
    "####  Northern Hemisphere - Cloudiness (%) vs. Latitude Linear Regression"
   ]
  },
  {
   "cell_type": "code",
   "execution_count": 169,
   "metadata": {},
   "outputs": [
    {
     "name": "stdout",
     "output_type": "stream",
     "text": [
      "The r-value is: 0.092. This designates either no or very weak relationship.\n",
      "\n"
     ]
    },
    {
     "data": {
      "image/png": "[encoded data removed]",
      "text/plain": [
       "<Figure size 432x288 with 1 Axes>"
      ]
     },
     "metadata": {
      "needs_background": "light"
     },
     "output_type": "display_data"
    }
   ],
   "source": [
    "createPlot(nHemiDF[\"Lat\"],nHemiDF[\"Cloudiness\"],\"Latitude\",\"Humidity\",\"Cloudiness (%) vs. Latitude Linear Regression\")"
   ]
  },
  {
   "cell_type": "markdown",
   "metadata": {},
   "source": [
    "####  Southern Hemisphere - Cloudiness (%) vs. Latitude Linear Regression"
   ]
  },
  {
   "cell_type": "code",
   "execution_count": 170,
   "metadata": {},
   "outputs": [
    {
     "name": "stdout",
     "output_type": "stream",
     "text": [
      "The r-value is: 0.242. This designates either no or very weak relationship.\n",
      "\n"
     ]
    },
    {
     "data": {
      "image/png": "[encoded data removed]",
      "text/plain": [
       "<Figure size 432x288 with 1 Axes>"
      ]
     },
     "metadata": {
      "needs_background": "light"
     },
     "output_type": "display_data"
    }
   ],
   "source": [
    "createPlot(sHemiDF[\"Lat\"],sHemiDF[\"Cloudiness\"],\"Latitude\",\"Humidity\",\"Cloudiness (%) vs. Latitude Linear Regression\")"
   ]
  },
  {
   "cell_type": "markdown",
   "metadata": {},
   "source": [
    "####  Northern Hemisphere - Wind Speed (mph) vs. Latitude Linear Regression"
   ]
  },
  {
   "cell_type": "code",
   "execution_count": 171,
   "metadata": {},
   "outputs": [
    {
     "name": "stdout",
     "output_type": "stream",
     "text": [
      "The r-value is: 0.216. This designates either no or very weak relationship.\n",
      "\n"
     ]
    },
    {
     "data": {
      "image/png": "[encoded data removed]",
      "text/plain": [
       "<Figure size 432x288 with 1 Axes>"
      ]
     },
     "metadata": {
      "needs_background": "light"
     },
     "output_type": "display_data"
    }
   ],
   "source": [
    "createPlot(nHemiDF[\"Lat\"],nHemiDF[\"Wind Speed\"],\"Latitude\",\"Humidity\",\"Wind Speed (mph) vs. Latitude Linear Regression\")"
   ]
  },
  {
   "cell_type": "markdown",
   "metadata": {},
   "source": [
    "####  Southern Hemisphere - Wind Speed (mph) vs. Latitude Linear Regression"
   ]
  },
  {
   "cell_type": "code",
   "execution_count": 172,
   "metadata": {},
   "outputs": [
    {
     "name": "stdout",
     "output_type": "stream",
     "text": [
      "The r-value is: 0.073. This designates either no or very weak relationship.\n",
      "\n"
     ]
    },
    {
     "data": {
      "image/png": "[encoded data removed]",
      "text/plain": [
       "<Figure size 432x288 with 1 Axes>"
      ]
     },
     "metadata": {
      "needs_background": "light"
     },
     "output_type": "display_data"
    }
   ],
   "source": [
    "createPlot(sHemiDF[\"Lat\"],sHemiDF[\"Wind Speed\"],\"Latitude\",\"Humidity\",\"Wind Speed (mph) vs. Latitude Linear Regression\")"
   ]
  },
  {
   "cell_type": "code",
   "execution_count": null,
   "metadata": {},
   "outputs": [],
   "source": []
  }
 ],
 "metadata": {
  "anaconda-cloud": {},
  "kernel_info": {
   "name": "python3"
  },
  "kernelspec": {
   "display_name": "Python 3",
   "language": "python",
   "name": "python3"
  },
  "language_info": {
   "codemirror_mode": {
    "name": "ipython",
    "version": 3
   },
   "file_extension": ".py",
   "mimetype": "text/x-python",
   "name": "python",
   "nbconvert_exporter": "python",
   "pygments_lexer": "ipython3",
   "version": "3.8.5"
  },
  "latex_envs": {
   "LaTeX_envs_menu_present": true,
   "autoclose": false,
   "autocomplete": true,
   "bibliofile": "biblio.bib",
   "cite_by": "apalike",
   "current_citInitial": 1,
   "eqLabelWithNumbers": true,
   "eqNumInitial": 1,
   "hotkeys": {
    "equation": "Ctrl-E",
    "itemize": "Ctrl-I"
   },
   "labels_anchors": false,
   "latex_user_defs": false,
   "report_style_numbering": false,
   "user_envs_cfg": false
  },
  "nteract": {
   "version": "0.12.3"
  }
 },
 "nbformat": 4,
 "nbformat_minor": 4
}
